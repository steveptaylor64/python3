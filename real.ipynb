{
 "cells": [
  {
   "cell_type": "code",
   "execution_count": null,
   "id": "671f1f61-0f06-43b7-9483-a0ee38a61cf1",
   "metadata": {},
   "outputs": [],
   "source": [
    "import math\n",
    "import sys\n",
    "import os\n",
    "import time"
   ]
  },
  {
   "cell_type": "code",
   "execution_count": null,
   "id": "08a2add7-2bde-46ab-bee0-52e3247b81cf",
   "metadata": {},
   "outputs": [],
   "source": [
    "def main():\n",
    "    print(\"Welcome to my small program\")\n",
    "    sp=input(\"\\nEnter Signal Power ...\")\n",
    "    time.sleep(1)\n",
    "    np=input(\"\\nEnter Noise Power ...\")\n",
    "    sp=float(sp)\n",
    "    np=float(np)\n",
    "    r=float(sp/np)\n",
    "    print(\"\\nValue of r ...\",r)\n",
    "\n",
    "    if r<1:\n",
    "        print(\"\\nr cannot be less than 1 ...\")    \n",
    "        print(\"\\nFailed\")\n",
    "        main()\n",
    "        #sys.exit(\"r is less that 1\")\n",
    "        \n",
    "    else:\n",
    "        dc=int(10*math.log10(r))\n",
    "        print(\"\\nDecibels ...\",dc)\n",
    "        main()\n"
   ]
  },
  {
   "cell_type": "code",
   "execution_count": null,
   "id": "4cd0f9a6-a5f6-4181-b066-1a4fc5f2a584",
   "metadata": {},
   "outputs": [],
   "source": [
    "if __name__ == '__main__':\n",
    "    main()"
   ]
  },
  {
   "cell_type": "code",
   "execution_count": null,
   "id": "e739217f-0e05-426f-b4fa-f151617d9ba2",
   "metadata": {},
   "outputs": [],
   "source": []
  },
  {
   "cell_type": "code",
   "execution_count": null,
   "id": "146583dc-4e53-4485-947c-eef65c680f2f",
   "metadata": {},
   "outputs": [],
   "source": []
  },
  {
   "cell_type": "code",
   "execution_count": null,
   "id": "4d0c8a8c-afe1-4b8e-8b11-438d2d3d43ac",
   "metadata": {},
   "outputs": [],
   "source": []
  },
  {
   "cell_type": "code",
   "execution_count": null,
   "id": "7a3684c2-fdbd-4849-bbcf-8f2fb7057d30",
   "metadata": {},
   "outputs": [],
   "source": []
  }
 ],
 "metadata": {
  "kernelspec": {
   "display_name": "Python 3 (ipykernel)",
   "language": "python",
   "name": "python3"
  },
  "language_info": {
   "codemirror_mode": {
    "name": "ipython",
    "version": 3
   },
   "file_extension": ".py",
   "mimetype": "text/x-python",
   "name": "python",
   "nbconvert_exporter": "python",
   "pygments_lexer": "ipython3",
   "version": "3.12.1"
  }
 },
 "nbformat": 4,
 "nbformat_minor": 5
}
